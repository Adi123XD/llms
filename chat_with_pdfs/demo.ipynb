{
 "cells": [
  {
   "cell_type": "code",
   "execution_count": 1,
   "metadata": {},
   "outputs": [
    {
     "name": "stderr",
     "output_type": "stream",
     "text": [
      "d:\\llm_projects\\chat_with_pdfs\\venv\\lib\\site-packages\\tqdm\\auto.py:21: TqdmWarning: IProgress not found. Please update jupyter and ipywidgets. See https://ipywidgets.readthedocs.io/en/stable/user_install.html\n",
      "  from .autonotebook import tqdm as notebook_tqdm\n"
     ]
    }
   ],
   "source": [
    "# Import necessary libraries\n",
    "import os\n",
    "import pandas as pd\n",
    "from PyPDF2 import PdfReader\n",
    "from langchain.text_splitter import RecursiveCharacterTextSplitter\n",
    "from langchain_google_genai import GoogleGenerativeAIEmbeddings\n",
    "import google.generativeai as genai\n",
    "from dotenv import load_dotenv\n",
    "\n",
    "# Load environment variables\n",
    "load_dotenv()\n",
    "genai.configure(api_key=os.getenv(\"GOOGLE_API_KEY\"))"
   ]
  },
  {
   "cell_type": "code",
   "execution_count": 2,
   "metadata": {},
   "outputs": [],
   "source": [
    "# Function to extract text line by line from a PDF\n",
    "def extract_text_from_pdf(pdf_path):\n",
    "    reader = PdfReader(pdf_path)\n",
    "    text_lines = []\n",
    "    \n",
    "    # Loop through the pages and extract text line by line\n",
    "    for page in reader.pages:\n",
    "        page_text = page.extract_text().split('\\n')  # Split the text by lines\n",
    "        text_lines.extend(page_text)\n",
    "    \n",
    "    return text_lines"
   ]
  },
  {
   "cell_type": "code",
   "execution_count": 3,
   "metadata": {},
   "outputs": [],
   "source": [
    "def generate_embeddings(text_lines):\n",
    "    embeddings = GoogleGenerativeAIEmbeddings(model=\"models/embedding-001\")\n",
    "    embedded_lines = [embeddings.embed_query(line) for line in text_lines]\n",
    "    return embedded_lines"
   ]
  },
  {
   "cell_type": "code",
   "execution_count": 4,
   "metadata": {},
   "outputs": [],
   "source": [
    "def process_pdfs_in_directory(directory_path):\n",
    "    pdf_files = [f for f in os.listdir(directory_path) if f.endswith('.pdf')]\n",
    "    all_data = []\n",
    "\n",
    "    for pdf_file in pdf_files:\n",
    "        pdf_path = os.path.join(directory_path, pdf_file)\n",
    "        text_lines = extract_text_from_pdf(pdf_path)\n",
    "        embeddings = generate_embeddings(text_lines)\n",
    "        \n",
    "        # Store data in a list of dictionaries\n",
    "        for line, embedding in zip(text_lines, embeddings):\n",
    "            all_data.append({\"PDF_File\": pdf_file, \"Text_Line\": line, \"Embedding\": embedding})\n",
    "    \n",
    "    return all_data"
   ]
  },
  {
   "cell_type": "code",
   "execution_count": 9,
   "metadata": {},
   "outputs": [
    {
     "data": {
      "text/html": [
       "<div>\n",
       "<style scoped>\n",
       "    .dataframe tbody tr th:only-of-type {\n",
       "        vertical-align: middle;\n",
       "    }\n",
       "\n",
       "    .dataframe tbody tr th {\n",
       "        vertical-align: top;\n",
       "    }\n",
       "\n",
       "    .dataframe thead th {\n",
       "        text-align: right;\n",
       "    }\n",
       "</style>\n",
       "<table border=\"1\" class=\"dataframe\">\n",
       "  <thead>\n",
       "    <tr style=\"text-align: right;\">\n",
       "      <th></th>\n",
       "      <th>PDF_File</th>\n",
       "      <th>Text_Line</th>\n",
       "      <th>Embedding</th>\n",
       "    </tr>\n",
       "  </thead>\n",
       "  <tbody>\n",
       "    <tr>\n",
       "      <th>0</th>\n",
       "      <td>Adarsh_Agarwal_resume__ML.pdf</td>\n",
       "      <td>Adarsh Agarwal</td>\n",
       "      <td>[0.031593174, 0.005383688, -0.04268268, -0.026...</td>\n",
       "    </tr>\n",
       "    <tr>\n",
       "      <th>1</th>\n",
       "      <td>Adarsh_Agarwal_resume__ML.pdf</td>\n",
       "      <td>/envel⌢peadarshagarwal932@gmail.com</td>\n",
       "      <td>[0.042841185, 0.013480655, -0.043075725, -0.05...</td>\n",
       "    </tr>\n",
       "    <tr>\n",
       "      <th>2</th>\n",
       "      <td>Adarsh_Agarwal_resume__ML.pdf</td>\n",
       "      <td>/githubGitHub Profile</td>\n",
       "      <td>[0.057152078, -0.0010283713, -0.06052837, -0.0...</td>\n",
       "    </tr>\n",
       "    <tr>\n",
       "      <th>3</th>\n",
       "      <td>Adarsh_Agarwal_resume__ML.pdf</td>\n",
       "      <td>♂phone+91-8509406302</td>\n",
       "      <td>[0.056045964, 0.007374667, -0.050200704, -0.03...</td>\n",
       "    </tr>\n",
       "    <tr>\n",
       "      <th>4</th>\n",
       "      <td>Adarsh_Agarwal_resume__ML.pdf</td>\n",
       "      <td>Education</td>\n",
       "      <td>[0.037251502, -0.025072152, -0.050775126, 0.02...</td>\n",
       "    </tr>\n",
       "  </tbody>\n",
       "</table>\n",
       "</div>"
      ],
      "text/plain": [
       "                        PDF_File                            Text_Line  \\\n",
       "0  Adarsh_Agarwal_resume__ML.pdf                       Adarsh Agarwal   \n",
       "1  Adarsh_Agarwal_resume__ML.pdf  /envel⌢peadarshagarwal932@gmail.com   \n",
       "2  Adarsh_Agarwal_resume__ML.pdf                /githubGitHub Profile   \n",
       "3  Adarsh_Agarwal_resume__ML.pdf                 ♂phone+91-8509406302   \n",
       "4  Adarsh_Agarwal_resume__ML.pdf                            Education   \n",
       "\n",
       "                                           Embedding  \n",
       "0  [0.031593174, 0.005383688, -0.04268268, -0.026...  \n",
       "1  [0.042841185, 0.013480655, -0.043075725, -0.05...  \n",
       "2  [0.057152078, -0.0010283713, -0.06052837, -0.0...  \n",
       "3  [0.056045964, 0.007374667, -0.050200704, -0.03...  \n",
       "4  [0.037251502, -0.025072152, -0.050775126, 0.02...  "
      ]
     },
     "execution_count": 9,
     "metadata": {},
     "output_type": "execute_result"
    }
   ],
   "source": [
    "# Directory path containing PDFs\n",
    "pdf_directory = r\"./\"  # Make sure to replace this with your actual directory path\n",
    "\n",
    "# Process the PDFs and create a DataFrame\n",
    "pdf_data = process_pdfs_in_directory(pdf_directory)\n",
    "df = pd.DataFrame(pdf_data)\n",
    "\n",
    "# Display the DataFrame\n",
    "df.head()"
   ]
  },
  {
   "cell_type": "code",
   "execution_count": 11,
   "metadata": {},
   "outputs": [
    {
     "name": "stdout",
     "output_type": "stream",
     "text": [
      "<class 'pandas.core.frame.DataFrame'>\n",
      "RangeIndex: 50 entries, 0 to 49\n",
      "Data columns (total 3 columns):\n",
      " #   Column     Non-Null Count  Dtype \n",
      "---  ------     --------------  ----- \n",
      " 0   PDF_File   50 non-null     object\n",
      " 1   Text_Line  50 non-null     object\n",
      " 2   Embedding  50 non-null     object\n",
      "dtypes: object(3)\n",
      "memory usage: 1.3+ KB\n"
     ]
    }
   ],
   "source": [
    "df.info()"
   ]
  },
  {
   "cell_type": "code",
   "execution_count": 14,
   "metadata": {},
   "outputs": [
    {
     "data": {
      "text/plain": [
       "(50, 3)"
      ]
     },
     "execution_count": 14,
     "metadata": {},
     "output_type": "execute_result"
    }
   ],
   "source": [
    "df.shape"
   ]
  },
  {
   "cell_type": "code",
   "execution_count": 15,
   "metadata": {},
   "outputs": [
    {
     "data": {
      "text/plain": [
       "PDF_File     0\n",
       "Text_Line    0\n",
       "Embedding    0\n",
       "dtype: int64"
      ]
     },
     "execution_count": 15,
     "metadata": {},
     "output_type": "execute_result"
    }
   ],
   "source": [
    "df.isnull().sum()"
   ]
  },
  {
   "cell_type": "code",
   "execution_count": 17,
   "metadata": {},
   "outputs": [
    {
     "name": "stdout",
     "output_type": "stream",
     "text": [
      "Basic statistics on Embedding lengths:\n",
      " count     50.0\n",
      "mean     768.0\n",
      "std        0.0\n",
      "min      768.0\n",
      "25%      768.0\n",
      "50%      768.0\n",
      "75%      768.0\n",
      "max      768.0\n",
      "Name: Embedding_length, dtype: float64\n"
     ]
    }
   ],
   "source": [
    "df['Embedding_length'] = df['Embedding'].apply(lambda x: len(x))  # Length of each embedding\n",
    "print(\"Basic statistics on Embedding lengths:\\n\", df['Embedding_length'].describe())"
   ]
  }
 ],
 "metadata": {
  "kernelspec": {
   "display_name": "Python 3",
   "language": "python",
   "name": "python3"
  },
  "language_info": {
   "codemirror_mode": {
    "name": "ipython",
    "version": 3
   },
   "file_extension": ".py",
   "mimetype": "text/x-python",
   "name": "python",
   "nbconvert_exporter": "python",
   "pygments_lexer": "ipython3",
   "version": "3.10.11"
  }
 },
 "nbformat": 4,
 "nbformat_minor": 2
}

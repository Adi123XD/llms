{
 "cells": [
  {
   "cell_type": "code",
   "execution_count": 1,
   "id": "161d1ef2-2ad1-41f0-a2d0-4f70c6862d22",
   "metadata": {},
   "outputs": [],
   "source": [
    "from langchain_community.llms import CTransformers"
   ]
  },
  {
   "cell_type": "code",
   "execution_count": 4,
   "id": "98cd341f-ca13-4061-825e-de094241770b",
   "metadata": {},
   "outputs": [
    {
     "name": "stderr",
     "output_type": "stream",
     "text": [
      "2024-02-03 17:28:44.564 \n",
      "  \u001b[33m\u001b[1mWarning:\u001b[0m to view this Streamlit app on a browser, run it with the following\n",
      "  command:\n",
      "\n",
      "    streamlit run C:\\Users\\adars\\AppData\\Local\\Programs\\Python\\Python310\\lib\\site-packages\\ipykernel_launcher.py [ARGUMENTS]\n"
     ]
    }
   ],
   "source": [
    "import streamlit as st\n",
    "from langchain.prompts import PromptTemplate\n",
    "from langchain_community.llms import CTransformers\n",
    "\n",
    "# Function to get response from llama model \n",
    "def getllamareponse(input_text,no_words,blog_style):\n",
    "    print(\"hello world\")\n",
    "    llm = CTransformers(model=\"model/llama-2-7b-chat.ggmlv3.q8_0.bin\",\n",
    "                        model_type=\"llama\",\n",
    "                        config={\n",
    "                            'max_new_tokens':256,\n",
    "                            'temperature':0.01\n",
    "                        })\n",
    "    pass\n",
    "\n",
    "\n",
    "\n",
    "st.set_page_config(page_title=\"Generate Blogs\",\n",
    "                   initial_sidebar_state=\"collapsed\",\n",
    "                   layout=\"centered\",\n",
    "                   page_icon=\"🤖\")\n",
    "st.header(\"Generate Blogs 🤖\")\n",
    "input_text = st.text_input(\"Enter the Blog topic\")\n",
    "\n",
    "# creating more colomns for additional 2 fields\n",
    "col1,col2 = st.columns([5,5])\n",
    "with col1:\n",
    "    no_words = st.text_input(\"Number of words\")\n",
    "\n",
    "with col2:\n",
    "    blog_style = st.selectbox(\"Writing blog for \",(\"Researchers\",\"Data Scientitsts\" , \"Common People\"),index=0)\n",
    "submit = st.button(\"Generate\")\n",
    "\n",
    "if submit:\n",
    "    st.write(getllamareponse(input_text,no_words,blog_style))\n"
   ]
  },
  {
   "cell_type": "code",
   "execution_count": null,
   "id": "cb6e4825-f3bd-4e2e-b2c9-a35fbf575d56",
   "metadata": {},
   "outputs": [],
   "source": []
  }
 ],
 "metadata": {
  "kernelspec": {
   "display_name": "Python 3 (ipykernel)",
   "language": "python",
   "name": "python3"
  },
  "language_info": {
   "codemirror_mode": {
    "name": "ipython",
    "version": 3
   },
   "file_extension": ".py",
   "mimetype": "text/x-python",
   "name": "python",
   "nbconvert_exporter": "python",
   "pygments_lexer": "ipython3",
   "version": "3.10.11"
  }
 },
 "nbformat": 4,
 "nbformat_minor": 5
}
